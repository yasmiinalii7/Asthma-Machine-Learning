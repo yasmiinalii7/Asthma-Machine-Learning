{
  "nbformat": 4,
  "nbformat_minor": 0,
  "metadata": {
    "colab": {
      "provenance": [],
      "authorship_tag": "ABX9TyNTnIcTY+gmhxcmWiPPN2a1",
      "include_colab_link": true
    },
    "kernelspec": {
      "name": "python3",
      "display_name": "Python 3"
    },
    "language_info": {
      "name": "python"
    }
  },
  "cells": [
    {
      "cell_type": "markdown",
      "metadata": {
        "id": "view-in-github",
        "colab_type": "text"
      },
      "source": [
        "<a href=\"https://colab.research.google.com/github/yasmiinalii7/Asthma-Machine-Learning/blob/main/asthma_risk_severity_dataset.ipynb\" target=\"_parent\"><img src=\"https://colab.research.google.com/assets/colab-badge.svg\" alt=\"Open In Colab\"/></a>"
      ]
    },
    {
      "cell_type": "code",
      "source": [
        "# # pip install imbalanced-learn\n",
        "# !pip install ydata-profiling"
      ],
      "metadata": {
        "id": "xVzdd1j6Nq1v"
      },
      "execution_count": null,
      "outputs": []
    },
    {
      "cell_type": "code",
      "execution_count": null,
      "metadata": {
        "id": "-h2C4SNvuihI"
      },
      "outputs": [],
      "source": [
        "import pandas as pd\n",
        "import numpy as np\n",
        "\n",
        "import matplotlib.pyplot as plt                                                                      # Visualization\n",
        "import seaborn as sns\n",
        "\n",
        "from ydata_profiling import ProfileReport                                                           # !pip install ydata-profiling\n",
        "\n",
        "from sklearn.preprocessing import StandardScaler, MinMaxScaler, LabelEncoder, PolynomialFeatures     # Preprocessing\n",
        "from sklearn.decomposition import PCA\n",
        "from sklearn.model_selection import train_test_split\n",
        "from imblearn.over_sampling import SMOTE                                                            # To handle class imbalance\n",
        "\n",
        "from scipy import stats\n",
        "\n",
        "from sklearn.linear_model import LogisticRegression                                                  # Machine learning models\n",
        "from sklearn.svm import SVC\n",
        "from sklearn.neighbors import KNeighborsClassifier\n",
        "from sklearn.naive_bayes import GaussianNB\n",
        "from sklearn.tree import DecisionTreeClassifier\n",
        "from sklearn.ensemble import RandomForestClassifier, AdaBoostClassifier\n",
        "\n",
        "from keras.models import Sequential                                                                  # ANN\n",
        "from keras.layers import Dense\n",
        "from keras.optimizers import Adam\n",
        "\n",
        "from sklearn.metrics import accuracy_score, classification_report, confusion_matrix                  # Evaluation\n",
        "\n",
        "import joblib                                                                                        # Save and load\n",
        "\n",
        "import warnings\n",
        "warnings.filterwarnings('ignore')"
      ]
    },
    {
      "cell_type": "code",
      "source": [
        "df = pd.read_csv('/content/synthetic_asthma_dataset.csv')"
      ],
      "metadata": {
        "id": "taIREOV1u4l3"
      },
      "execution_count": null,
      "outputs": []
    },
    {
      "cell_type": "code",
      "source": [
        "df.head()"
      ],
      "metadata": {
        "id": "e_k1hi5jvWao"
      },
      "execution_count": null,
      "outputs": []
    },
    {
      "cell_type": "markdown",
      "source": [
        "### Understand the Data"
      ],
      "metadata": {
        "id": "ra2MMUFdGTai"
      }
    },
    {
      "cell_type": "code",
      "source": [
        "df.info()"
      ],
      "metadata": {
        "id": "w1fyRkp4GS7P"
      },
      "execution_count": null,
      "outputs": []
    },
    {
      "cell_type": "code",
      "source": [
        "df.shape"
      ],
      "metadata": {
        "id": "D9RLo0D5vaSH"
      },
      "execution_count": null,
      "outputs": []
    },
    {
      "cell_type": "markdown",
      "source": [
        "### Missing Values"
      ],
      "metadata": {
        "id": "TJSuENMg3BwV"
      }
    },
    {
      "cell_type": "code",
      "source": [
        "df.isnull().sum()"
      ],
      "metadata": {
        "id": "ukM1gJiavXxm"
      },
      "execution_count": null,
      "outputs": []
    },
    {
      "cell_type": "code",
      "source": [
        "df.drop('Patient_ID',axis=1,inplace=True)"
      ],
      "metadata": {
        "id": "cGl3MoRO_Xus"
      },
      "execution_count": null,
      "outputs": []
    },
    {
      "cell_type": "code",
      "source": [
        "df['Allergies'].fillna(df['Allergies'].mode()[0],inplace=True)"
      ],
      "metadata": {
        "id": "XHruTzAt_-7E"
      },
      "execution_count": null,
      "outputs": []
    },
    {
      "cell_type": "code",
      "source": [
        "df.drop('Asthma_Control_Level',axis=1,inplace=True)"
      ],
      "metadata": {
        "id": "a_qWDSEOAdor"
      },
      "execution_count": null,
      "outputs": []
    },
    {
      "cell_type": "code",
      "source": [
        "df.drop('Comorbidities',axis=1,inplace=True)"
      ],
      "metadata": {
        "id": "ygfD-ui5nQA_"
      },
      "execution_count": null,
      "outputs": []
    },
    {
      "cell_type": "code",
      "source": [
        "df.isnull().sum()"
      ],
      "metadata": {
        "id": "zSgIuZym3PQV"
      },
      "execution_count": null,
      "outputs": []
    },
    {
      "cell_type": "markdown",
      "source": [
        "# YData profiling"
      ],
      "metadata": {
        "id": "3KPn12r2nYZz"
      }
    },
    {
      "cell_type": "code",
      "source": [
        "profile=ProfileReport(df)\n",
        "profile.to_file(output_file='report.html')"
      ],
      "metadata": {
        "id": "v3wblLwAKmMh"
      },
      "execution_count": null,
      "outputs": []
    },
    {
      "cell_type": "markdown",
      "source": [
        "### Visualize the Data"
      ],
      "metadata": {
        "id": "9I333MMzPPhp"
      }
    },
    {
      "cell_type": "code",
      "source": [
        "# Age Distribution\n",
        "plt.figure(figsize=(8, 4))\n",
        "sns.histplot(df['Age'], bins=30, kde=True)\n",
        "plt.title('Age Distribution')\n",
        "plt.show()"
      ],
      "metadata": {
        "id": "inpzTgG4PJWs"
      },
      "execution_count": null,
      "outputs": []
    },
    {
      "cell_type": "code",
      "source": [
        "sns.countplot(x='Gender', hue='Has_Asthma', data=df)\n",
        "plt.title('Asthma')\n",
        "plt.show()"
      ],
      "metadata": {
        "id": "GJ8EziC6QJNW"
      },
      "execution_count": null,
      "outputs": []
    },
    {
      "cell_type": "code",
      "source": [
        "sns.histplot(df['Has_Asthma'])"
      ],
      "metadata": {
        "id": "ttzNZcQdG-GS"
      },
      "execution_count": null,
      "outputs": []
    },
    {
      "cell_type": "code",
      "source": [
        "plt.figure(figsize=(10, 6))\n",
        "sns.barplot(x='Smoking_Status', y='Has_Asthma', data=df)\n",
        "plt.title('Smoking Status vs. Asthma')\n",
        "plt.show()"
      ],
      "metadata": {
        "id": "3AVJhuO2S_Ee"
      },
      "execution_count": null,
      "outputs": []
    },
    {
      "cell_type": "code",
      "source": [
        "plt.figure(figsize=(10, 6))\n",
        "sns.heatmap(df.corr(numeric_only=True), annot=True, cmap='coolwarm')\n",
        "plt.title('Correlation Heatmap')\n",
        "plt.show()"
      ],
      "metadata": {
        "id": "V1IGx1UHR5ol"
      },
      "execution_count": null,
      "outputs": []
    },
    {
      "cell_type": "code",
      "source": [
        "plt.figure(figsize=(10, 6))\n",
        "sns.boxplot(x='Has_Asthma', y='Age', hue='Gender', data=df)\n",
        "plt.title('Age Distribution by Asthma and Gender')\n",
        "plt.xticks([0, 1], ['No Asthma', 'Has Asthma'])\n",
        "plt.show()"
      ],
      "metadata": {
        "id": "4vtQQnB7yrTO"
      },
      "execution_count": null,
      "outputs": []
    },
    {
      "cell_type": "code",
      "source": [
        "sns.scatterplot(x='BMI', y='Has_Asthma', data=df)\n",
        "plt.title('BMI vs. Asthma')\n",
        "plt.show()"
      ],
      "metadata": {
        "id": "sTo_ROWyakuC"
      },
      "execution_count": null,
      "outputs": []
    },
    {
      "cell_type": "markdown",
      "source": [
        "### Handling Outliers"
      ],
      "metadata": {
        "id": "cRhVR4UygK8s"
      }
    },
    {
      "cell_type": "code",
      "source": [
        "numeric_cols = df.select_dtypes(include=['float64', 'int64']).columns\n",
        "\n",
        "plt.figure(figsize=(10, len(numeric_cols)*4))\n",
        "\n",
        "for i, col in enumerate(numeric_cols, 1):\n",
        "    plt.subplot(len(numeric_cols), 1, i)\n",
        "    sns.boxplot(x=df[col], color='skyblue')\n",
        "    plt.title(f'Boxplot for {col}')\n",
        "    plt.tight_layout()\n",
        "\n",
        "plt.show()"
      ],
      "metadata": {
        "id": "m5cFD8lcZ4ol"
      },
      "execution_count": null,
      "outputs": []
    },
    {
      "cell_type": "code",
      "source": [
        "# List of features to clean\n",
        "features = ['BMI', 'Number_of_ER_Visits', 'FeNO_Level']\n",
        "\n",
        "for col in features:\n",
        "    Q1 = df[col].quantile(0.25)\n",
        "    Q3 = df[col].quantile(0.75)\n",
        "    IQR = Q3 - Q1\n",
        "\n",
        "    lower_bound = Q1 - 1.5 * IQR\n",
        "    upper_bound = Q3 + 1.5 * IQR\n",
        "\n",
        "    #  show how many outliers\n",
        "    outliers = df[(df[col] < lower_bound) | (df[col] > upper_bound)]\n",
        "    print(f\"{col} → Outliers: {len(outliers)}\")\n",
        "\n",
        "    # Handling: remove outliers\n",
        "    df = df[(df[col] >= lower_bound) & (df[col] <= upper_bound)]\n"
      ],
      "metadata": {
        "id": "1R4b4uvqcx1X"
      },
      "execution_count": null,
      "outputs": []
    },
    {
      "cell_type": "markdown",
      "source": [
        "# Preprocessing"
      ],
      "metadata": {
        "id": "SMkfR5eliilF"
      }
    },
    {
      "cell_type": "code",
      "source": [
        "df.info()"
      ],
      "metadata": {
        "id": "BOE1WTWtve2m"
      },
      "execution_count": null,
      "outputs": []
    },
    {
      "cell_type": "code",
      "source": [
        "for col in df.select_dtypes(include='object').columns:\n",
        "    print(f\"Unique values in column '{col}':\")\n",
        "    print(df[col].unique())"
      ],
      "metadata": {
        "id": "0MPLTEAOF2dB"
      },
      "execution_count": null,
      "outputs": []
    },
    {
      "cell_type": "code",
      "source": [
        "df['Gender']=df['Gender'].map({'Female':1,'Male':0, 'Other':2})"
      ],
      "metadata": {
        "id": "ZhK74WjGFi6S"
      },
      "execution_count": null,
      "outputs": []
    },
    {
      "cell_type": "code",
      "source": [
        "df['Smoking_Status']=df['Smoking_Status'].map({'Current':0,'Former':1,'Never':2})\n",
        "df['Occupation_Type']=df['Occupation_Type'].map({'Outdoor':0,'Indoor':1})"
      ],
      "metadata": {
        "id": "VJ5TxhEPF8JR"
      },
      "execution_count": null,
      "outputs": []
    },
    {
      "cell_type": "code",
      "source": [
        "le=LabelEncoder()\n",
        "df['Allergies']=le.fit_transform(df['Allergies'])\n",
        "df['Physical_Activity_Level']=le.fit_transform(df['Physical_Activity_Level'])\n",
        "df['Air_Pollution_Level']=le.fit_transform(df['Air_Pollution_Level'])"
      ],
      "metadata": {
        "id": "KNGPBfYOisXy"
      },
      "execution_count": null,
      "outputs": []
    },
    {
      "cell_type": "code",
      "source": [
        "df.info()"
      ],
      "metadata": {
        "id": "gMzdE72nGqrB"
      },
      "execution_count": null,
      "outputs": []
    },
    {
      "cell_type": "code",
      "source": [
        "plt.figure(figsize=(10,10))\n",
        "sns.heatmap(df.corr(),annot=True,fmt='.2f')\n",
        "plt.show()"
      ],
      "metadata": {
        "id": "GEN3Uwo8IzIg"
      },
      "execution_count": null,
      "outputs": []
    },
    {
      "cell_type": "code",
      "source": [
        "x=df.drop('Has_Asthma',axis=1)\n",
        "y=df['Has_Asthma']"
      ],
      "metadata": {
        "id": "IFLlN4QbH_wS"
      },
      "execution_count": null,
      "outputs": []
    },
    {
      "cell_type": "code",
      "source": [
        "st=StandardScaler()\n",
        "x=st.fit_transform(x)"
      ],
      "metadata": {
        "id": "XGB2vLs5IL_B"
      },
      "execution_count": null,
      "outputs": []
    },
    {
      "cell_type": "code",
      "source": [
        "smote=SMOTE()\n",
        "x,y=smote.fit_resample(x,y)"
      ],
      "metadata": {
        "id": "-JmdYVSA0gJi"
      },
      "execution_count": null,
      "outputs": []
    },
    {
      "cell_type": "markdown",
      "source": [
        "## Feature Expansion"
      ],
      "metadata": {
        "id": "Aw4kMm4S6CAQ"
      }
    },
    {
      "cell_type": "code",
      "source": [
        "poly=PolynomialFeatures(degree=2)\n",
        "x_poly = poly.fit_transform(x)"
      ],
      "metadata": {
        "id": "QQZtQjsowRZR"
      },
      "execution_count": null,
      "outputs": []
    },
    {
      "cell_type": "markdown",
      "source": [
        "## Dimensionality reduction"
      ],
      "metadata": {
        "id": "atOaUx9T7djv"
      }
    },
    {
      "cell_type": "code",
      "source": [
        "pca = PCA(n_components=2)\n",
        "x_pca = pca.fit_transform(x)"
      ],
      "metadata": {
        "id": "W3MTqdoV6TpY"
      },
      "execution_count": null,
      "outputs": []
    },
    {
      "cell_type": "code",
      "source": [
        "df_pca = pd.DataFrame(data=x_pca, columns=['PC1', 'PC2'])            # dataframe to draw\n",
        "df_pca['Has_Asthma'] = y.values"
      ],
      "metadata": {
        "id": "6KT3eBHgriTI"
      },
      "execution_count": null,
      "outputs": []
    },
    {
      "cell_type": "code",
      "source": [
        "plt.figure(figsize=(8,6))\n",
        "sns.scatterplot(\n",
        "    data=df_pca,\n",
        "    x='PC1', y='PC2',\n",
        "    hue='Has_Asthma',\n",
        "    palette=['skyblue', 'tomato'],\n",
        "    alpha=0.7\n",
        ")\n",
        "plt.title('PCA (2D) - Has_Asthma Distribution')\n",
        "plt.xlabel('Principal Component 1')\n",
        "plt.ylabel('Principal Component 2')\n",
        "plt.legend(title='Has Asthma')\n",
        "plt.grid(True)\n",
        "plt.show()"
      ],
      "metadata": {
        "id": "r-q9AzjwrtIa"
      },
      "execution_count": null,
      "outputs": []
    },
    {
      "cell_type": "markdown",
      "source": [
        "# Data Splitting"
      ],
      "metadata": {
        "id": "L2vK-1O_sy8U"
      }
    },
    {
      "cell_type": "code",
      "source": [
        "x_train,x_test,y_train,y_test=train_test_split(x_poly,y,test_size=0.2,random_state=42 , stratify=y)"
      ],
      "metadata": {
        "id": "aVzHKVPkxZJG"
      },
      "execution_count": null,
      "outputs": []
    },
    {
      "cell_type": "markdown",
      "source": [
        "### Random Forest"
      ],
      "metadata": {
        "id": "mXS2LVn1tFtB"
      }
    },
    {
      "cell_type": "code",
      "source": [
        "rf=RandomForestClassifier(n_estimators=1000, random_state=42 , max_depth=20 , class_weight='balanced')"
      ],
      "metadata": {
        "id": "R1AaiyI6HQix"
      },
      "execution_count": null,
      "outputs": []
    },
    {
      "cell_type": "code",
      "source": [
        "rf.fit(x_train, y_train)\n",
        "y_pred_rf=rf.predict(x_test)"
      ],
      "metadata": {
        "id": "2ETinIiUIjni"
      },
      "execution_count": null,
      "outputs": []
    },
    {
      "cell_type": "code",
      "source": [
        "accuracy_score(y_test,y_pred_rf)"
      ],
      "metadata": {
        "id": "1U-qVIlLImxg"
      },
      "execution_count": null,
      "outputs": []
    },
    {
      "cell_type": "code",
      "source": [
        "print(classification_report(y_test,y_pred_rf))"
      ],
      "metadata": {
        "id": "-XNfdXsZIwGQ"
      },
      "execution_count": null,
      "outputs": []
    },
    {
      "cell_type": "code",
      "source": [
        "conf_matrix = confusion_matrix(y_test, y_pred_rf)\n",
        "sns.heatmap(conf_matrix, annot=True, fmt=\"d\")"
      ],
      "metadata": {
        "id": "6k_F4VwdeqQy"
      },
      "execution_count": null,
      "outputs": []
    },
    {
      "cell_type": "code",
      "source": [
        "importances=rf.feature_importances_\n",
        "importances"
      ],
      "metadata": {
        "collapsed": true,
        "id": "Z1_5-zMUUhIq"
      },
      "execution_count": null,
      "outputs": []
    },
    {
      "cell_type": "code",
      "source": [
        "feature_names=poly.get_feature_names_out(df.drop('Has_Asthma', axis=1).columns)\n",
        "plt.figure(figsize=(10, 6))\n",
        "plt.bar(feature_names, importances)\n",
        "plt.xticks(rotation=90)\n",
        "plt.title(\"Feature Importances\")\n",
        "plt.tight_layout()\n",
        "plt.show()"
      ],
      "metadata": {
        "id": "SQqMm-oFf4ab"
      },
      "execution_count": null,
      "outputs": []
    },
    {
      "cell_type": "markdown",
      "source": [
        "### Support Vector Machine"
      ],
      "metadata": {
        "id": "MMp5liWgK7b2"
      }
    },
    {
      "cell_type": "code",
      "source": [
        "svc=SVC(kernel='rbf', C=1.0, gamma='scale', class_weight='balanced')"
      ],
      "metadata": {
        "id": "8RsYjVLlLE-P"
      },
      "execution_count": null,
      "outputs": []
    },
    {
      "cell_type": "code",
      "source": [
        "svc.fit(x_train,y_train)"
      ],
      "metadata": {
        "id": "cjtSnqAJLwUr"
      },
      "execution_count": null,
      "outputs": []
    },
    {
      "cell_type": "code",
      "source": [
        "y_pred_svc=svc.predict(x_test)"
      ],
      "metadata": {
        "id": "4GwfMrzBL1a6"
      },
      "execution_count": null,
      "outputs": []
    },
    {
      "cell_type": "code",
      "source": [
        "accuracy_score(y_test,y_pred_svc)"
      ],
      "metadata": {
        "id": "W0ZPaR1SL5DB"
      },
      "execution_count": null,
      "outputs": []
    },
    {
      "cell_type": "code",
      "source": [
        "print(classification_report(y_test,y_pred_svc))"
      ],
      "metadata": {
        "id": "aVAm43AOL7Kk"
      },
      "execution_count": null,
      "outputs": []
    },
    {
      "cell_type": "markdown",
      "source": [
        "# Decision Tree"
      ],
      "metadata": {
        "id": "zI2ccbhGSWMX"
      }
    },
    {
      "cell_type": "code",
      "source": [
        "dt=DecisionTreeClassifier(class_weight='balanced')"
      ],
      "metadata": {
        "id": "LD1mFOqMShjg"
      },
      "execution_count": null,
      "outputs": []
    },
    {
      "cell_type": "code",
      "source": [
        "dt.fit(x_train,y_train)"
      ],
      "metadata": {
        "id": "XbJqI4sJSmlK"
      },
      "execution_count": null,
      "outputs": []
    },
    {
      "cell_type": "code",
      "source": [
        "y_pred_dt=dt.predict(x_test)"
      ],
      "metadata": {
        "id": "OLdFx2MdSqFR"
      },
      "execution_count": null,
      "outputs": []
    },
    {
      "cell_type": "code",
      "source": [
        "accuracy_score(y_test,y_pred_dt)"
      ],
      "metadata": {
        "id": "hdmdmFa6Sv_P"
      },
      "execution_count": null,
      "outputs": []
    },
    {
      "cell_type": "code",
      "source": [
        "print(classification_report(y_test,y_pred_dt))"
      ],
      "metadata": {
        "id": "VY07YAnBTAF_"
      },
      "execution_count": null,
      "outputs": []
    },
    {
      "cell_type": "markdown",
      "source": [
        "### Logistic Regression"
      ],
      "metadata": {
        "id": "0LoI3QUVHXr5"
      }
    },
    {
      "cell_type": "code",
      "source": [
        "lr=LogisticRegression(class_weight='balanced')"
      ],
      "metadata": {
        "id": "cUBZCqgqNW-s"
      },
      "execution_count": null,
      "outputs": []
    },
    {
      "cell_type": "code",
      "source": [
        "lr.fit(x_train,y_train)"
      ],
      "metadata": {
        "id": "IOzP54kOI63t"
      },
      "execution_count": null,
      "outputs": []
    },
    {
      "cell_type": "code",
      "source": [
        "y_pred_lr=lr.predict(x_test)"
      ],
      "metadata": {
        "id": "4q3BoaKfJBp4"
      },
      "execution_count": null,
      "outputs": []
    },
    {
      "cell_type": "code",
      "source": [
        "accuracy_score(y_test,y_pred_lr)"
      ],
      "metadata": {
        "id": "6lASAoAbJE5n"
      },
      "execution_count": null,
      "outputs": []
    },
    {
      "cell_type": "code",
      "source": [
        "print(classification_report(y_test,y_pred_lr))"
      ],
      "metadata": {
        "id": "DloaCTFrJX1H"
      },
      "execution_count": null,
      "outputs": []
    },
    {
      "cell_type": "markdown",
      "source": [
        "# KNN"
      ],
      "metadata": {
        "id": "tNXHUBWSOpjo"
      }
    },
    {
      "cell_type": "code",
      "source": [
        "knn=KNeighborsClassifier(n_neighbors=5)"
      ],
      "metadata": {
        "id": "lOQRm7HsMD1t"
      },
      "execution_count": null,
      "outputs": []
    },
    {
      "cell_type": "code",
      "source": [
        "knn.fit(x_train,y_train)"
      ],
      "metadata": {
        "id": "jG0J0_F1OJKb"
      },
      "execution_count": null,
      "outputs": []
    },
    {
      "cell_type": "code",
      "source": [
        "y_pred_knn=knn.predict(x_test)"
      ],
      "metadata": {
        "id": "JWTVik5IOaYm"
      },
      "execution_count": null,
      "outputs": []
    },
    {
      "cell_type": "code",
      "source": [
        "accuracy_score(y_test,y_pred_knn)"
      ],
      "metadata": {
        "id": "kdNZuCooOeUM"
      },
      "execution_count": null,
      "outputs": []
    },
    {
      "cell_type": "code",
      "source": [
        "print(classification_report(y_test,y_pred_knn))"
      ],
      "metadata": {
        "id": "w-U4DS6BOgwh"
      },
      "execution_count": null,
      "outputs": []
    },
    {
      "cell_type": "markdown",
      "source": [
        "# Naive Bayes"
      ],
      "metadata": {
        "id": "RaBQ36UldPJC"
      }
    },
    {
      "cell_type": "code",
      "source": [
        "nb=GaussianNB()"
      ],
      "metadata": {
        "id": "YVWL092_Oiqd"
      },
      "execution_count": null,
      "outputs": []
    },
    {
      "cell_type": "code",
      "source": [
        "nb.fit(x_train,y_train)"
      ],
      "metadata": {
        "id": "DwxYm9teQSTk"
      },
      "execution_count": null,
      "outputs": []
    },
    {
      "cell_type": "code",
      "source": [
        "y_pred_nb=nb.predict(x_test)"
      ],
      "metadata": {
        "id": "T_jX-FT2QTwt"
      },
      "execution_count": null,
      "outputs": []
    },
    {
      "cell_type": "code",
      "source": [
        "accuracy_score(y_test,y_pred_nb)"
      ],
      "metadata": {
        "id": "MGkmsdXnQcNr"
      },
      "execution_count": null,
      "outputs": []
    },
    {
      "cell_type": "code",
      "source": [
        "print(classification_report(y_test,y_pred_nb))"
      ],
      "metadata": {
        "id": "jkhIUdW1QeA_"
      },
      "execution_count": null,
      "outputs": []
    },
    {
      "cell_type": "markdown",
      "source": [
        "# ADABOOST"
      ],
      "metadata": {
        "id": "N7rkRym8TqrY"
      }
    },
    {
      "cell_type": "code",
      "source": [
        "base = DecisionTreeClassifier(max_depth=1)"
      ],
      "metadata": {
        "id": "h2bQtpO_RG9N"
      },
      "execution_count": null,
      "outputs": []
    },
    {
      "cell_type": "code",
      "source": [
        "ada_model = AdaBoostClassifier(estimator=base, n_estimators=100, random_state=42)"
      ],
      "metadata": {
        "id": "v4XrhnwJT62f"
      },
      "execution_count": null,
      "outputs": []
    },
    {
      "cell_type": "code",
      "source": [
        "ada_model.fit(x_train, y_train)"
      ],
      "metadata": {
        "id": "jIayZdKET95M"
      },
      "execution_count": null,
      "outputs": []
    },
    {
      "cell_type": "code",
      "source": [
        "y_pred_ada = ada_model.predict(x_test)"
      ],
      "metadata": {
        "id": "UfSAmULVUS80"
      },
      "execution_count": null,
      "outputs": []
    },
    {
      "cell_type": "code",
      "source": [
        "accuracy_score(y_test,y_pred_ada)"
      ],
      "metadata": {
        "id": "0jcgmlFGUWNN"
      },
      "execution_count": null,
      "outputs": []
    },
    {
      "cell_type": "code",
      "source": [
        "print(classification_report(y_test,y_pred_ada))"
      ],
      "metadata": {
        "id": "oT8i8isYUXZy"
      },
      "execution_count": null,
      "outputs": []
    },
    {
      "cell_type": "markdown",
      "source": [
        "# Neural Network (ANN)"
      ],
      "metadata": {
        "id": "7FzTEMDxXDK7"
      }
    },
    {
      "cell_type": "code",
      "source": [
        "model = Sequential()\n",
        "model.add(Dense(64, activation='relu', input_shape=(x_train.shape[1],)))\n",
        "model.add(Dense(32, activation='relu'))\n",
        "model.add(Dense(1, activation='sigmoid'))"
      ],
      "metadata": {
        "id": "4UjVn837Wk6P"
      },
      "execution_count": null,
      "outputs": []
    },
    {
      "cell_type": "code",
      "source": [
        "model.compile(optimizer=Adam(learning_rate=0.001), loss='binary_crossentropy', metrics=['accuracy'])"
      ],
      "metadata": {
        "id": "dguKRSfWXSrU"
      },
      "execution_count": null,
      "outputs": []
    },
    {
      "cell_type": "code",
      "source": [
        "model.fit(x_train, y_train, epochs=15, batch_size=32, validation_split=0.2)"
      ],
      "metadata": {
        "id": "trmbVM7LXq4s"
      },
      "execution_count": null,
      "outputs": []
    },
    {
      "cell_type": "code",
      "source": [
        "loss, accuracy = model.evaluate(x_test, y_test)\n",
        "print(f\"Total Accuracy on Test Data: {accuracy:.2f}\")"
      ],
      "metadata": {
        "id": "eaIe79KQYrfC"
      },
      "execution_count": null,
      "outputs": []
    },
    {
      "cell_type": "code",
      "source": [
        "model_names = ['Logistic Regression', 'KNN', 'SVC', 'Decision Tree', 'Random Forest',\n",
        "               'Naive Bayes', 'AdaBoost', 'ANN']\n",
        "\n",
        "accuracies = [0.932912653603454, 0.9309199601461309, 0.9521753570242444, 0.9458651610760545, 0.9598140152773165, 0.8605114579873796, 0.9176353370973098, 0.95]\n",
        "\n",
        "# نرسم الـ Bar Plot\n",
        "plt.figure(figsize=(12, 6))\n",
        "plt.bar(model_names, accuracies, color='mediumslateblue')\n",
        "plt.xlabel('Models')\n",
        "plt.ylabel('Accuracy')\n",
        "plt.title('Model Comparison')\n",
        "plt.xticks(rotation=45)\n",
        "plt.ylim(0, 1)\n",
        "plt.grid(axis='y', linestyle='--', alpha=0.7)\n",
        "plt.tight_layout()\n",
        "plt.show"
      ],
      "metadata": {
        "id": "8LoJhLHQavj9"
      },
      "execution_count": null,
      "outputs": []
    },
    {
      "cell_type": "markdown",
      "source": [
        "# Save the best model"
      ],
      "metadata": {
        "id": "OQQLTq7tyiCW"
      }
    },
    {
      "cell_type": "code",
      "source": [
        "joblib.dump(rf, 'rf.pkl')"
      ],
      "metadata": {
        "id": "KF_YBkCppfxB"
      },
      "execution_count": null,
      "outputs": []
    }
  ]
}